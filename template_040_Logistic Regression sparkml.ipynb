{
 "cells": [
  {
   "cell_type": "markdown",
   "id": "06ef6457",
   "metadata": {},
   "source": [
    "# Logistic Regression - Spark ML\n",
    "\n",
    "### data: 성별 소득 data 에 따라 특정 구매자의 구매할지 여부를 예측"
   ]
  },
  {
   "cell_type": "markdown",
   "id": "1033691c",
   "metadata": {},
   "source": [
    "### 문자열을 One-Hot 벡터로 변환"
   ]
  },
  {
   "cell_type": "markdown",
   "id": "3a08fa13",
   "metadata": {},
   "source": [
    "### Confustion Matrix 시각화"
   ]
  }
 ],
 "metadata": {
  "kernelspec": {
   "display_name": "pyspark-env",
   "language": "python",
   "name": "pyspark-env"
  },
  "language_info": {
   "codemirror_mode": {
    "name": "ipython",
    "version": 3
   },
   "file_extension": ".py",
   "mimetype": "text/x-python",
   "name": "python",
   "nbconvert_exporter": "python",
   "pygments_lexer": "ipython3",
   "version": "3.10.8"
  }
 },
 "nbformat": 4,
 "nbformat_minor": 5
}
