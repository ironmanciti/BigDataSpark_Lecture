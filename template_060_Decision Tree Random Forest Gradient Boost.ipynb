{
 "cells": [
  {
   "cell_type": "markdown",
   "id": "81157b99",
   "metadata": {},
   "source": [
    "# Decision Tree, Random Forest Classifier, Gradient Boost"
   ]
  },
  {
   "cell_type": "markdown",
   "id": "cc130bd4",
   "metadata": {},
   "source": [
    "### Simple EDA"
   ]
  },
  {
   "cell_type": "markdown",
   "id": "23b96a2c",
   "metadata": {},
   "source": [
    "### Missing Value 처리"
   ]
  },
  {
   "cell_type": "markdown",
   "id": "1afd1bc2",
   "metadata": {},
   "source": [
    "이제 모든 열이 단일 기능 벡터로 변환되었으므로 데이터를 표준화하여 비교 가능한 규모로 가져와야 합니다. "
   ]
  }
 ],
 "metadata": {
  "kernelspec": {
   "display_name": "pyspark-env",
   "language": "python",
   "name": "pyspark-env"
  },
  "language_info": {
   "codemirror_mode": {
    "name": "ipython",
    "version": 3
   },
   "file_extension": ".py",
   "mimetype": "text/x-python",
   "name": "python",
   "nbconvert_exporter": "python",
   "pygments_lexer": "ipython3",
   "version": "3.10.8"
  }
 },
 "nbformat": 4,
 "nbformat_minor": 5
}
