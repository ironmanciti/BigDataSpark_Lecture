{
 "cells": [
  {
   "cell_type": "markdown",
   "id": "9e37546f",
   "metadata": {},
   "source": [
    "# One-hot encoding in PySpark\n",
    "\n",
    "PySpark에서 원-핫 인코딩을 수행하려면 다음을 수행해야 합니다.\n",
    "1. StringIndexer를 사용하여 범주 열을 숫자 열(0, 1, ...)로 변환\n",
    "2. OneHotEncoder를 사용하여 숫자 열을 원-핫 인코딩 열로 변환"
   ]
  },
  {
   "cell_type": "markdown",
   "id": "83927c74",
   "metadata": {},
   "source": [
    "### 첫 번째 단계 - StringIndexer를 사용하여 클래스 열을 숫자 열로 변환"
   ]
  },
  {
   "cell_type": "markdown",
   "id": "c187d207",
   "metadata": {},
   "source": [
    "### One-Hot Encoding\n",
    "\n",
    "희소 벡터는 다음 세 가지 값으로 정의됩니다.\n",
    "\n",
    "size: 벡터의 크기(카테고리 수에서 1을 뺀 값)  \n",
    "인덱스: 값을 보유하는 벡터의 인덱스  \n",
    "값: 인덱스에 있는 값  \n",
    "\n",
    "벡터 (3,[0],[1.0])를 예로 들어 보겠습니다. 하나의 범주가 기본 범주로 사용되기 때문에 4개의 고유한 범주(A,B,C,D)가 있지만 벡터의 크기는 3입니다.  \n",
    "중간 값 [0]과 세 번째 값 [1.0]은 벡터에서 인덱스 위치 0을 1.0으로 채워야 함을 의미합니다. 희소 벡터의 다른 모든 값은 0으로 채워집니다.\n",
    "\n",
    "원-핫 인코딩된 벡터(3,[],[])의 두 번째 및 세 번째 값은 모두 비어 있습니다. 이것은 벡터가 0으로 채워져 있음을 의미합니다. 즉, 범주 D가 기본 범주로 취급됩니다. 이것이 크기 3의 벡터로 4개의 고유 범주를 나타낼 수 있는 이유입니다.  "
   ]
  }
 ],
 "metadata": {
  "kernelspec": {
   "display_name": "pyspark-env",
   "language": "python",
   "name": "pyspark-env"
  },
  "language_info": {
   "codemirror_mode": {
    "name": "ipython",
    "version": 3
   },
   "file_extension": ".py",
   "mimetype": "text/x-python",
   "name": "python",
   "nbconvert_exporter": "python",
   "pygments_lexer": "ipython3",
   "version": "3.10.8"
  }
 },
 "nbformat": 4,
 "nbformat_minor": 5
}
