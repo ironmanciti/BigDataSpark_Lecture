{
 "cells": [
  {
   "cell_type": "markdown",
   "id": "9553436d",
   "metadata": {},
   "source": [
    "## 2. Linear Regression - Tip 금액 예측\n",
    "- computing -> cluster -> library 에서 `seaborn` install"
   ]
  },
  {
   "cell_type": "markdown",
   "id": "cc9b21e5",
   "metadata": {},
   "source": [
    "### Categorical Feature를 One-Hot 벡터로 변환"
   ]
  }
 ],
 "metadata": {
  "kernelspec": {
   "display_name": "pyspark-env",
   "language": "python",
   "name": "pyspark-env"
  },
  "language_info": {
   "codemirror_mode": {
    "name": "ipython",
    "version": 3
   },
   "file_extension": ".py",
   "mimetype": "text/x-python",
   "name": "python",
   "nbconvert_exporter": "python",
   "pygments_lexer": "ipython3",
   "version": "3.10.8"
  }
 },
 "nbformat": 4,
 "nbformat_minor": 5
}
