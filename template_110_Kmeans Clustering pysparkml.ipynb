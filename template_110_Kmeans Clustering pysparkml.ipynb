{
 "cells": [
  {
   "cell_type": "markdown",
   "id": "7d3e291f",
   "metadata": {},
   "source": [
    "# Kmeans Clustering using Spark.ml\n",
    "Python 및 sklearn을 사용하여 K-means 클러스터링을 수행"
   ]
  },
  {
   "cell_type": "markdown",
   "id": "5ff7df91",
   "metadata": {},
   "source": [
    "### Cluster 시각화"
   ]
  }
 ],
 "metadata": {
  "kernelspec": {
   "display_name": "pyspark-env",
   "language": "python",
   "name": "pyspark-env"
  },
  "language_info": {
   "codemirror_mode": {
    "name": "ipython",
    "version": 3
   },
   "file_extension": ".py",
   "mimetype": "text/x-python",
   "name": "python",
   "nbconvert_exporter": "python",
   "pygments_lexer": "ipython3",
   "version": "3.10.8"
  }
 },
 "nbformat": 4,
 "nbformat_minor": 5
}
