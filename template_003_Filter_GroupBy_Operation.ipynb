{
 "cells": [
  {
   "cell_type": "markdown",
   "id": "189bcd6e",
   "metadata": {},
   "source": [
    "# DataFrame Filter Operation"
   ]
  },
  {
   "cell_type": "markdown",
   "id": "6bc8eaad",
   "metadata": {},
   "source": [
    "## GroupBy 와 Aggregation Function"
   ]
  }
 ],
 "metadata": {
  "kernelspec": {
   "display_name": "pyspark-env",
   "language": "python",
   "name": "pyspark-env"
  },
  "language_info": {
   "codemirror_mode": {
    "name": "ipython",
    "version": 3
   },
   "file_extension": ".py",
   "mimetype": "text/x-python",
   "name": "python",
   "nbconvert_exporter": "python",
   "pygments_lexer": "ipython3",
   "version": "3.10.8"
  }
 },
 "nbformat": 4,
 "nbformat_minor": 5
}
