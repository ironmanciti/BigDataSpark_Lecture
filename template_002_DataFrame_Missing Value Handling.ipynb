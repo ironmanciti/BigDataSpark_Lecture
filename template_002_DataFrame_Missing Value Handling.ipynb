{
 "cells": [
  {
   "cell_type": "markdown",
   "id": "54abee10",
   "metadata": {},
   "source": [
    "# Spark DataFrame의 Missing Value Handling"
   ]
  },
  {
   "cell_type": "markdown",
   "id": "4841a395",
   "metadata": {},
   "source": [
    "### read the dataset"
   ]
  }
 ],
 "metadata": {
  "kernelspec": {
   "display_name": "pyspark-env",
   "language": "python",
   "name": "pyspark-env"
  },
  "language_info": {
   "codemirror_mode": {
    "name": "ipython",
    "version": 3
   },
   "file_extension": ".py",
   "mimetype": "text/x-python",
   "name": "python",
   "nbconvert_exporter": "python",
   "pygments_lexer": "ipython3",
   "version": "3.10.8"
  }
 },
 "nbformat": 4,
 "nbformat_minor": 5
}
